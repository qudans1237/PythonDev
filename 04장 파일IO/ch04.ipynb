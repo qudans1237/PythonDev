{
 "cells": [
  {
   "cell_type": "markdown",
   "metadata": {},
   "source": [
    "#### 점프투파이썬\n",
    "---\n",
    "04장 연습문제"
   ]
  },
  {
   "cell_type": "markdown",
   "metadata": {},
   "source": [
    "> Q1\n",
    "``` py\n",
    "    주어진 자연수가 홀수인지 짝수인지 판별해 주는 함수(is_odd)를 작성해 보자.\n",
    "```"
   ]
  },
  {
   "cell_type": "code",
   "execution_count": 20,
   "metadata": {},
   "outputs": [
    {
     "name": "stdout",
     "output_type": "stream",
     "text": [
      "홀수 입니다.\n",
      "213214은(는) 짝수입니다.\n"
     ]
    }
   ],
   "source": [
    "\n",
    "def is_odd(number) :  \n",
    "    if number % 2 == 1:\n",
    "        return print(\"홀수 입니다.\")\n",
    "    else :\n",
    "        return print(\"짝수 입니다.\")\n",
    "n = 11\n",
    "is_odd(n)\n",
    "\n",
    "#-----------------------------\n",
    "def is_oddd(number):\n",
    "    if number % 2 == 1:\n",
    "        return True\n",
    "    else:\n",
    "        return False\n",
    "\n",
    "nn = 213214\n",
    "if is_oddd(nn):\n",
    "    print(f\"{nn}은(는) 홀수입니다.\")\n",
    "else: print(f\"{nn}은(는) 짝수입니다.\")"
   ]
  },
  {
   "cell_type": "markdown",
   "metadata": {},
   "source": [
    "> Q2\n",
    "``` py\n",
    "    입력으로 들어오는 모든 수의 평균 값을 계산해 주는 함수를 작성해 보자. \n",
    "    (단 입력으로 들어오는 수의 개수는 정해져 있지 않다.)\n",
    "    ※ 평균 값을 구할 때 len 함수를 사용해 보자.\n",
    "```"
   ]
  },
  {
   "cell_type": "code",
   "execution_count": 23,
   "metadata": {},
   "outputs": [
    {
     "name": "stdout",
     "output_type": "stream",
     "text": [
      "평균은: 13.11\n"
     ]
    }
   ],
   "source": [
    "def get_avg(args):\n",
    "    return sum(args) / len(args)\n",
    "\n",
    "data_in = 10.3, 12.1, 30, 3.14, 10\n",
    "\n",
    "print(\"평균은:\", round(get_avg(data_in),2))\n"
   ]
  },
  {
   "cell_type": "markdown",
   "metadata": {},
   "source": [
    "> Q3\n",
    "``` py\n",
    "    다음은 두 개의 숫자를 입력받아 더하여 돌려주는 프로그램이다.\n",
    "\n",
    "    input1 = input(\"첫번째 숫자를 입력하세요:\")\n",
    "    input2 = input(\"두번째 숫자를 입력하세요:\")\n",
    "\n",
    "    total = input1 + input2\n",
    "    print(\"두 수의 합은 %s 입니다\" % total)\n",
    "    이 프로그램을 수행해 보자.\n",
    "\n",
    "    첫번째 숫자를 입력하세요:3\n",
    "    두번째 숫자를 입력하세요:6\n",
    "    두 수의 합은 36 입니다\n",
    "    3과 6을 입력했을 때 9가 아닌 36이라는 결괏값을 돌려주었다. \n",
    "    이 프로그램의 오류를 수정해 보자.\n",
    "```"
   ]
  },
  {
   "cell_type": "code",
   "execution_count": 24,
   "metadata": {},
   "outputs": [
    {
     "name": "stdout",
     "output_type": "stream",
     "text": [
      "두 수의 합은 3 입니다\n"
     ]
    }
   ],
   "source": [
    "input1 = int(input(\"첫번째 숫자를 입력하세요:\"))\n",
    "input2 = int(input(\"두번째 숫자를 입력하세요:\"))\n",
    "\n",
    "total = input1 + input2\n",
    "print(\"두 수의 합은 %s 입니다\" % total)"
   ]
  },
  {
   "cell_type": "markdown",
   "metadata": {},
   "source": [
    "> Q4\n",
    "``` py\n",
    "    다음 중 출력 결과가 다른 것 한 개를 골라 보자.\n",
    "\n",
    "    1. print(\"you\" \"need\" \"python\")\n",
    "    2. print(\"you\"+\"need\"+\"python\")\n",
    "    3. print(\"you\", \"need\", \"python\")\n",
    "    4. print(\"\".join([\"you\", \"need\", \"python\"]))\n",
    "```"
   ]
  },
  {
   "cell_type": "code",
   "execution_count": 48,
   "metadata": {},
   "outputs": [
    {
     "name": "stdout",
     "output_type": "stream",
     "text": [
      "youneedpython\n",
      "youneedpython\n",
      "you need python\n",
      "youneedpython\n",
      "you:need:python\n",
      "['you', 'need', 'python']\n",
      "you\n",
      "need\n",
      "python\n",
      "you-need-python\n",
      "['you', 'need', 'python']\n"
     ]
    }
   ],
   "source": [
    "print(\"you\" \"need\" \"python\")\n",
    "print(\"you\"+\"need\"+\"python\")\n",
    "print(\"you\", \"need\", \"python\")\n",
    "print(\"\".join([\"you\", \"need\", \"python\"]))\n",
    "\n",
    "\n",
    "text = \":\".join([\"you\", \"need\", \"python\"])\n",
    "print(text)\n",
    "# text = \"you:need:python\" 문자열 상수\n",
    "\n",
    "splist = text.split(':')\n",
    "print(splist)\n",
    "print(splist[0])\n",
    "print(splist[1])\n",
    "print(splist[2])\n",
    "\n",
    "new_text=text.replace(':','-')\n",
    "print (new_text)\n",
    "new_splist = new_text.split('-')\n",
    "print(new_splist) "
   ]
  },
  {
   "cell_type": "markdown",
   "metadata": {},
   "source": [
    "> Q5\n",
    "``` py\n",
    "    다음은 \"test.txt\"라는 파일에 \"Life is too short\" 문자열을 저장한 후 \n",
    "    다시 그 파일을 읽어서 출력하는 프로그램이다.\n",
    "\n",
    "    f1 = open(\"test.txt\", 'w')\n",
    "    f1.write(\"Life is too short\")\n",
    "\n",
    "    f2 = open(\"test.txt\", 'r')\n",
    "    print(f2.read())\n",
    "    이 프로그램은 우리가 예상한 \"Life is too short\"라는 문장을 출력하지 않는다. \n",
    "    우리가 예상한 값을 출력할 수 있도록 프로그램을 수정해 보자.\n",
    "```"
   ]
  },
  {
   "cell_type": "code",
   "execution_count": 76,
   "metadata": {},
   "outputs": [
    {
     "name": "stdout",
     "output_type": "stream",
     "text": [
      "Lif\n"
     ]
    },
    {
     "data": {
      "text/plain": [
       "<function TextIOWrapper.close()>"
      ]
     },
     "execution_count": 76,
     "metadata": {},
     "output_type": "execute_result"
    }
   ],
   "source": [
    "try:\n",
    "    f1 = open(\"test.txt\", 'w')\n",
    "    f1.write(\"Life is too short\")\n",
    "except Exception as ex:\n",
    "    print(ex)\n",
    "finally:\n",
    "    f1.close\n",
    "\n",
    "f2 = open(\"test.txt\", 'r')\n",
    "print(f2.read())\n",
    "f2.close"
   ]
  },
  {
   "cell_type": "markdown",
   "metadata": {},
   "source": [
    "> Q6\n",
    "``` py\n",
    "    사용자의 입력을 파일(test.txt)에 저장하는 프로그램을 작성해 보자. \n",
    "    (단 프로그램을 다시 실행하더라도 기존에 작성한 내용을 유지하고 새로 입력한 내용을 추가해야 한다.)\n",
    "```"
   ]
  },
  {
   "cell_type": "code",
   "execution_count": 75,
   "metadata": {},
   "outputs": [
    {
     "name": "stdout",
     "output_type": "stream",
     "text": [
      "Life is too shortHello World\n",
      "Re Hello~\n",
      "세번째 입력이지롱이\n"
     ]
    }
   ],
   "source": [
    "dt = input(\"메세지를 입력해 주세요: \")\n",
    "\n",
    "# 기존 test.txt 파일에 추가 메시지 저장\n",
    "with open(\"test.txt\", \"a\", encoding='utf-8') as fw:\n",
    "    fw.write('\\n'+dt)\n",
    "\n",
    "with open(\"test.txt\",\"r\",encoding='utf_8') as fr:\n",
    "    print(fr.read())"
   ]
  },
  {
   "cell_type": "markdown",
   "metadata": {},
   "source": [
    "> Q7\n",
    "``` py\n",
    "    다음과 같은 내용을 지닌 파일 test.txt가 있다. \n",
    "    이 파일의 내용 중 \"java\"라는 문자열을 \"python\"으로 바꾸어서 저장해 보자.\n",
    "\n",
    "    Life is too short\n",
    "    you need java\n",
    "    ※ replace 함수를 사용해 보자.\n",
    "```"
   ]
  },
  {
   "cell_type": "code",
   "execution_count": 81,
   "metadata": {},
   "outputs": [
    {
     "name": "stdout",
     "output_type": "stream",
     "text": [
      "Life is too short\n",
      "you need python\n"
     ]
    }
   ],
   "source": [
    "with open(\"test.txt\",\"r\",encoding='utf_8') as fr:\n",
    "    data = fr.read().replace(\"java\",\"python\")\n",
    "    print(data)\n",
    "\n",
    "with open(\"test.txt\", \"wt\", encoding=\"utf_8\") as fw:\n",
    "    fw.write(data)"
   ]
  },
  {
   "cell_type": "markdown",
   "metadata": {},
   "source": [
    "#### 바이너리 파일 다루기 \n",
    "---"
   ]
  },
  {
   "cell_type": "code",
   "execution_count": 84,
   "metadata": {},
   "outputs": [
    {
     "name": "stdout",
     "output_type": "stream",
     "text": [
      "<http.client.HTTPResponse object at 0x00000260AF70C7C0>\n",
      "<class 'http.client.HTTPResponse'>\n"
     ]
    }
   ],
   "source": [
    "from urllib import request\n",
    "\n",
    "target = request.urlopen(\"https://google.com\")\n",
    "print(target)\n",
    "print(type(target))"
   ]
  }
 ],
 "metadata": {
  "interpreter": {
   "hash": "4aa7a001941c8b447200068b1d71a3924cf04f02fe096f0aa27a7230a4a7f943"
  },
  "kernelspec": {
   "display_name": "Python 3.10.1 64-bit",
   "language": "python",
   "name": "python3"
  },
  "language_info": {
   "codemirror_mode": {
    "name": "ipython",
    "version": 3
   },
   "file_extension": ".py",
   "mimetype": "text/x-python",
   "name": "python",
   "nbconvert_exporter": "python",
   "pygments_lexer": "ipython3",
   "version": "3.10.1"
  },
  "orig_nbformat": 4
 },
 "nbformat": 4,
 "nbformat_minor": 2
}
