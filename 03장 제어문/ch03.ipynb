{
 "cells": [
  {
   "cell_type": "markdown",
   "metadata": {},
   "source": [
    "#### 점프투파이썬\n",
    "---\n",
    "03장 연습문제"
   ]
  },
  {
   "cell_type": "code",
   "execution_count": null,
   "metadata": {},
   "outputs": [],
   "source": [
    "# [] # List \n",
    "# () # tuple (수정 까다로움 '상수')\n",
    "# {} # dictionary  (\"KEY\" : \"Value\")\n",
    "# {1,2,..}  # set (중복 제거)"
   ]
  },
  {
   "cell_type": "markdown",
   "metadata": {},
   "source": [
    "> Q1\n",
    "``` py\n",
    "    다음 코드의 결괏값은 무엇일까?\n",
    "\n",
    "    a = \"Life is too short, you need python\"\n",
    "\n",
    "    if \"wife\" in a: print(\"wife\")\n",
    "    elif \"python\" in a and \"you\" not in a: print(\"python\")\n",
    "    elif \"shirt\" not in a: print(\"shirt\")\n",
    "    elif \"need\" in a: print(\"need\")\n",
    "    else: print(\"none\")\n",
    "```"
   ]
  },
  {
   "cell_type": "code",
   "execution_count": null,
   "metadata": {},
   "outputs": [],
   "source": [
    "# a = \"Life is too short, you need python\"\n",
    "#  # if 조건문과 in, not in, and 법칙에 따라 \n",
    "# if \"wife\" in a:\n",
    "#     print(\"wife\")   # a에 \"wife\"는 존재하지않다  False\n",
    "# elif \"python\" in a and \"you\" not in a:\n",
    "#     print(\"python\") # \"python\"은 존재하지만 \"you\"는 존재 하지않는다  False\n",
    "# elif \"shirt\" not in a:\n",
    "#     print(\"shirt\")  # \"shirt\"는 존재한다  False\n",
    "# elif \"need\" in a:\n",
    "#     print(\"need\")   # \"need\"는 a에 존재함으로 Ture이므로 print()가 작동한다\n",
    "# else :\n",
    "#     print(\"none\")   # 하나의 조건이라도 Ture가 나타남으로써 \"none\"은 print 되지 않는다."
   ]
  },
  {
   "cell_type": "markdown",
   "metadata": {},
   "source": [
    "> Q2\n",
    "``` py\n",
    "    while문을 사용해 1부터 1000까지의 자연수 중 3의 배수의 합을 구해 보자.\n",
    "```"
   ]
  },
  {
   "cell_type": "code",
   "execution_count": 14,
   "metadata": {},
   "outputs": [
    {
     "name": "stdout",
     "output_type": "stream",
     "text": [
      "1부터 1000까지의 자연수 중 3의 배수의 합은 : 166833\n"
     ]
    }
   ],
   "source": [
    "# a = 0\n",
    "# b = 0\n",
    "# while a < 1000:\n",
    "#     a += 1\n",
    "#     if a%3 == 0:\n",
    "#         b = a+b\n",
    "#     else :\n",
    "#         continue\n",
    "# print(f\"1부터 1000까지의 자연수 중 3의 배수의 합은 : {b}\")"
   ]
  },
  {
   "cell_type": "code",
   "execution_count": 17,
   "metadata": {},
   "outputs": [
    {
     "name": "stdout",
     "output_type": "stream",
     "text": [
      "1~1000까지의 자연수 중 3의 배수의 합은: 166833\n"
     ]
    }
   ],
   "source": [
    "# li = list(range(1,1000 + 1))\n",
    "\n",
    "# summ = 0\n",
    "# for i in li:\n",
    "#     if i % 3 == 0:\n",
    "#         summ +=i\n",
    "# print(f\"1~1000까지의 자연수 중 3의 배수의 합은: {summ}\")"
   ]
  },
  {
   "cell_type": "code",
   "execution_count": null,
   "metadata": {},
   "outputs": [],
   "source": [
    "# 리스트 내포(list comprehention)\n",
    "\n",
    "li = [i for i in range(1, 1001) if i % 3 == 0]\n",
    "print(f\"1~1000까지의 3의 배수의 합은 {sum(li)}입니다.\")"
   ]
  },
  {
   "cell_type": "code",
   "execution_count": 30,
   "metadata": {},
   "outputs": [
    {
     "name": "stdout",
     "output_type": "stream",
     "text": [
      "[1, 9, 25, 49, 81]\n"
     ]
    }
   ],
   "source": [
    "print([i**2 for i in range(1,10+1) if i % 2 == 1])\n",
    "\n"
   ]
  },
  {
   "cell_type": "markdown",
   "metadata": {},
   "source": [
    "> Q3\n",
    "``` py\n",
    "    while문을 사용하여 다음과 같이 별(*)을 표시하는 프로그램을 작성해 보자.\n",
    "\n",
    "    *\n",
    "    **\n",
    "    ***\n",
    "    ****\n",
    "    *****\n",
    "```"
   ]
  },
  {
   "cell_type": "code",
   "execution_count": 41,
   "metadata": {},
   "outputs": [
    {
     "name": "stdout",
     "output_type": "stream",
     "text": [
      "*\n",
      "**\n",
      "***\n",
      "****\n",
      "*****\n"
     ]
    }
   ],
   "source": [
    "num = 0\n",
    "\n",
    "star = '*'\n",
    "\n",
    "while num <5:\n",
    "    \n",
    "    num += 1\n",
    "    print(star*num)\n",
    "\n",
    "# star = \"*\"\n",
    "# for i in range(0,4+1) :\n",
    "#     i +=1\n",
    "#     print(star*i)\n",
    "    \n"
   ]
  },
  {
   "cell_type": "markdown",
   "metadata": {},
   "source": [
    "> Q4\n",
    "``` py\n",
    "    for문을 사용해 1부터 100까지의 숫자를 출력해 보자.\n",
    "```"
   ]
  },
  {
   "cell_type": "code",
   "execution_count": 53,
   "metadata": {},
   "outputs": [
    {
     "name": "stdout",
     "output_type": "stream",
     "text": [
      "010-1234-5678\n"
     ]
    }
   ],
   "source": [
    "# for i in range(1,100+1):\n",
    "#     print (i, end=\", \")\n",
    "# ------------------------\n",
    "# li = [i for i in range(1, 101)]\n",
    "# print(li)\n",
    "#-------------------------\n",
    "print(\"010\",\"1234\",\"5678\",sep='-')"
   ]
  },
  {
   "cell_type": "markdown",
   "metadata": {},
   "source": [
    "> Q5\n",
    "``` py\n",
    "    A 학급에 총 10명의 학생이 있다. 이 학생들의 중간고사 점수는 다음과 같다.\n",
    "    [70, 60, 55, 75, 95, 90, 80, 80, 85, 100]\n",
    "    for문을 사용하여 A 학급의 평균 점수를 구해 보자.\n",
    "```"
   ]
  },
  {
   "cell_type": "code",
   "execution_count": 63,
   "metadata": {},
   "outputs": [
    {
     "name": "stdout",
     "output_type": "stream",
     "text": [
      "70\n",
      "130\n",
      "185\n",
      "260\n",
      "355\n",
      "445\n",
      "525\n",
      "605\n",
      "690\n",
      "790\n"
     ]
    },
    {
     "ename": "IndexError",
     "evalue": "list index out of range",
     "output_type": "error",
     "traceback": [
      "\u001b[1;31m---------------------------------------------------------------------------\u001b[0m",
      "\u001b[1;31mIndexError\u001b[0m                                Traceback (most recent call last)",
      "Input \u001b[1;32mIn [63]\u001b[0m, in \u001b[0;36m<module>\u001b[1;34m\u001b[0m\n\u001b[0;32m      6\u001b[0m total \u001b[38;5;241m=\u001b[39m \u001b[38;5;241m0\u001b[39m\n\u001b[0;32m      7\u001b[0m \u001b[38;5;28;01mfor\u001b[39;00m i \u001b[38;5;129;01min\u001b[39;00m \u001b[38;5;28mrange\u001b[39m(\u001b[38;5;28mlen\u001b[39m(score)\u001b[38;5;241m+\u001b[39m\u001b[38;5;241m1\u001b[39m):\n\u001b[1;32m----> 8\u001b[0m     total \u001b[38;5;241m+\u001b[39m\u001b[38;5;241m=\u001b[39m \u001b[43mscore\u001b[49m\u001b[43m[\u001b[49m\u001b[43mi\u001b[49m\u001b[43m]\u001b[49m\n\u001b[0;32m      9\u001b[0m     \u001b[38;5;28mprint\u001b[39m(total)\n\u001b[0;32m     10\u001b[0m     avg \u001b[38;5;241m=\u001b[39m total \u001b[38;5;241m/\u001b[39m (\u001b[38;5;28mlen\u001b[39m(score))\n",
      "\u001b[1;31mIndexError\u001b[0m: list index out of range"
     ]
    }
   ],
   "source": [
    "score = [70, 60, 55, 75, 95, 90, 80, 80, 85, 100]\n",
    "\n",
    "# avg = sum(score) / len(score)\n",
    "\n",
    "\n",
    "total = 0\n",
    "for i in range(len(score)+1):\n",
    "    total += score[i]\n",
    "    print(total)\n",
    "    avg = total / (len(score))\n",
    "    \n",
    "for s in score:\n",
    "    total += s\n"
   ]
  },
  {
   "cell_type": "markdown",
   "metadata": {},
   "source": [
    "> Q6\n",
    "``` py\n",
    "    리스트 중에서 홀수에만 2를 곱하여 저장하는 다음 코드가 있다.\n",
    "\n",
    "    numbers = [1, 2, 3, 4, 5]\n",
    "    result = []\n",
    "    for n in numbers:\n",
    "        if n % 2 == 1:\n",
    "            result.append(n*2)\n",
    "    위 코드를 리스트 내포(list comprehension)를 사용하여 표현해 보자.\n",
    "```"
   ]
  },
  {
   "cell_type": "code",
   "execution_count": 72,
   "metadata": {},
   "outputs": [
    {
     "name": "stdout",
     "output_type": "stream",
     "text": [
      "new_result = [2, 6, 10]\n"
     ]
    }
   ],
   "source": [
    "numbers = [1,2,3,4,5]\n",
    "\n",
    "new_result = [n * 2 for n in numbers if n % 2 == 1]\n",
    "print (\"new_result =\", new_result)"
   ]
  }
 ],
 "metadata": {
  "interpreter": {
   "hash": "4aa7a001941c8b447200068b1d71a3924cf04f02fe096f0aa27a7230a4a7f943"
  },
  "kernelspec": {
   "display_name": "Python 3.10.1 64-bit",
   "language": "python",
   "name": "python3"
  },
  "language_info": {
   "codemirror_mode": {
    "name": "ipython",
    "version": 3
   },
   "file_extension": ".py",
   "mimetype": "text/x-python",
   "name": "python",
   "nbconvert_exporter": "python",
   "pygments_lexer": "ipython3",
   "version": "3.10.1"
  },
  "orig_nbformat": 4
 },
 "nbformat": 4,
 "nbformat_minor": 2
}
