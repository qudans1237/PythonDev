{
 "cells": [
  {
   "cell_type": "markdown",
   "metadata": {},
   "source": [
    "##### 점프 투 파이썬\n",
    "---\n",
    "02장 "
   ]
  },
  {
   "cell_type": "markdown",
   "metadata": {},
   "source": [
    "> Q1    \n",
    "``` \n",
    "    홍길동 씨의 과목별 점수는 다음과 같다. 홍길동 씨의 평균 점수를 구해 보자.\n",
    "\n",
    "    과목\t점수\n",
    "    국어\t80\n",
    "    영어\t75\n",
    "    수학\t55   \n",
    "```"
   ]
  },
  {
   "cell_type": "code",
   "execution_count": 5,
   "metadata": {},
   "outputs": [
    {
     "name": "stdout",
     "output_type": "stream",
     "text": [
      "평균은  70 입니다.\n"
     ]
    }
   ],
   "source": [
    "#과목별 점수\n",
    "korean  = 80\n",
    "english = 75\n",
    "math    = 55\n",
    "\n",
    "# 총합\n",
    "sum     = korean + english + math\n",
    "# 평균\n",
    "avg     = sum/3\n",
    "#평균 값에 소숫점 없애기\n",
    "a =(\"%0.0f\" % avg)\n",
    "\n",
    "#값 \n",
    "print(\"평균은 \", a, \"입니다.\")"
   ]
  },
  {
   "cell_type": "code",
   "execution_count": 73,
   "metadata": {},
   "outputs": [
    {
     "name": "stdout",
     "output_type": "stream",
     "text": [
      "70\n"
     ]
    }
   ],
   "source": [
    "# print(type([]))\n",
    "subjects = [80, 75, 55]\n",
    "subjects[0]\n",
    "\n",
    "total = subjects[0] + subjects[1] + subjects[2]\n",
    "# len(subjects)\n",
    "\n",
    "# print(subjects)\n",
    "# print(total)\n",
    "# help(subjects)\n",
    "avg = \"%0.0f\" %(total / len(subjects))\n",
    "print(avg)"
   ]
  },
  {
   "cell_type": "code",
   "execution_count": 85,
   "metadata": {},
   "outputs": [
    {
     "name": "stdout",
     "output_type": "stream",
     "text": [
      "avg = 70.0\n"
     ]
    }
   ],
   "source": [
    "subjects = {\n",
    "    \"국어\":80,\n",
    "    \"영어\":75, \n",
    "    \"수학\": 55\n",
    "    }\n",
    "subjects[\"수학\"]\n",
    "# print(type({}))\n",
    "total = subjects[\"국어\"] + subjects[\"영어\"] + subjects[\"수학\"]\n",
    "avg = total / len(subjects)\n",
    "print(\"avg =\", avg)"
   ]
  },
  {
   "cell_type": "code",
   "execution_count": 28,
   "metadata": {},
   "outputs": [
    {
     "name": "stdout",
     "output_type": "stream",
     "text": [
      "고영희님의 총점 = 225, 평균은 : 75.0입니다.\n"
     ]
    }
   ],
   "source": [
    "# 사용자로부터 이름과 성적을 입력받아 총점과 평균을 구해 출력하는\n",
    "# 프로그램을 작성하시오\n",
    "# input()\n",
    "# input()\n",
    "name = input(\"이름을 입력하세요: \")\n",
    "kor = input(\"국어 점수를 입력하세요 : \")\n",
    "eng = input(\"영어 점수를 입력하세요 : \")\n",
    "math = input(\"수학 점수를 입력하세요 : \")\n",
    "\n",
    "total = int(kor) + int(eng) + int(math) #형변환 str >> int\n",
    "avg = total / 3\n",
    "\n",
    "# print(name, \"님의 총점 = \", total, \"평균은 : \", avg, \"입니다.\")\n",
    "print(f\"{name}님의 총점 = {total}, 평균은 : {avg}입니다.\")"
   ]
  },
  {
   "cell_type": "markdown",
   "metadata": {},
   "source": [
    "> Q2   \n",
    "``` py\n",
    "    자연수 13이 홀수인지 짝수인지 판별할 수 있는 방법에 대해 말해 보자.\n",
    "```"
   ]
  },
  {
   "cell_type": "code",
   "execution_count": 3,
   "metadata": {},
   "outputs": [
    {
     "name": "stdout",
     "output_type": "stream",
     "text": [
      "홀수입니다.\n"
     ]
    }
   ],
   "source": [
    "# 짝수 : \"02468\"\n",
    "# 홀수 : \"13579\"\n",
    "num = input(\"정수를 입력하세요: \")\n",
    "\n",
    "if num[-1] in \"02468\":\n",
    "    print(\"짝수입니다.\")\n",
    "else :\n",
    "    print(\"홀수입니다.\")"
   ]
  },
  {
   "cell_type": "code",
   "execution_count": 5,
   "metadata": {},
   "outputs": [
    {
     "name": "stdout",
     "output_type": "stream",
     "text": [
      "홀수입니다.\n"
     ]
    }
   ],
   "source": [
    "number = int(input(\"자연수를 입력하세요: \"))\n",
    "\n",
    "if number % 2 == 0:\n",
    "    print(\"짝수입니다.\")\n",
    "else:\n",
    "    print(\"홀수입니다.\")"
   ]
  },
  {
   "cell_type": "code",
   "execution_count": 4,
   "metadata": {},
   "outputs": [
    {
     "name": "stdout",
     "output_type": "stream",
     "text": [
      "홀수입니다.\n"
     ]
    }
   ],
   "source": [
    "# 자연수 13 홀짝 판별\n",
    "if 13 % 2 == 1 :\n",
    "    print(\"홀수입니다.\")"
   ]
  },
  {
   "cell_type": "code",
   "execution_count": 2,
   "metadata": {},
   "outputs": [
    {
     "name": "stdout",
     "output_type": "stream",
     "text": [
      "정확한 값을 입력해주세요.\n"
     ]
    }
   ],
   "source": [
    "#자연수 a 홀짝 판별\n",
    "a = 0\n",
    "# 홀수 판별 방법\n",
    "b = a % 2\n",
    "\n",
    "#자연수 a가 짝수인지 혹은 홀수인지 판별하는 조건식\n",
    "if b == 0:\n",
    "    print(\"짝수 입니다.\")\n",
    "elif b == 1:\n",
    "    print(\"홀수 입니다.\")\n",
    "else :\n",
    "    print(\"정확한 값을 입력해주세요.\")"
   ]
  },
  {
   "cell_type": "markdown",
   "metadata": {},
   "source": [
    "> Q3   \n",
    "``` py   \n",
    "    홍길동 씨의 주민등록번호는 881120-1068234이다.  \n",
    "    홍길동 씨의 주민등록번호를 연월일(YYYYMMDD) 부분과 그 뒤의 숫자 부분으로 나누어 출력해 보자.\n",
    "```"
   ]
  },
  {
   "cell_type": "code",
   "execution_count": 30,
   "metadata": {},
   "outputs": [
    {
     "name": "stdout",
     "output_type": "stream",
     "text": [
      "이름: 유병문\n",
      "주민번호 앞자리: 930809  뒷자리: 1951613\n",
      "1993년생 08월 09일 출생자입니다.\n",
      "나이는     30살 이며, 남성입니다.\n"
     ]
    }
   ],
   "source": [
    "name     = input(\"이름을 입력해주세요 : \")\n",
    "pin      = input(\"'-'포함하여 주민번호 13자리를 입력해 주세요 : \")\n",
    "yymmdd   = pin[:6] # pin[0:6] 으로도 사용 가능\n",
    "num      = pin[7:] # pin[7:0] 으로도 사용가능\n",
    "yy       = int(pin[:2])\n",
    "mm       = pin[2:4]\n",
    "dd       = pin[4:6]\n",
    "gender   = pin[7]\n",
    "\n",
    "if gender == 1 or 2:\n",
    "    yy += 1900\n",
    "else:\n",
    "    yy += 2000\n",
    "\n",
    "age = 2022 - yy + 1\n",
    "\n",
    "if gender == \"1\" or gender == \"3\":\n",
    "    gen = \"남성입니다.\"\n",
    "elif gender == \"2\" or gender == \"4\":\n",
    "    gen = \"여성입니다.\"\n",
    "else :\n",
    "    print(\"정확한 주민번호를 입력하세요\")\n",
    "\n",
    "print(f\"이름: {name}\\n주민번호 앞자리: {yymmdd}  뒷자리: {num}\\n{yy}년생 {mm}월 {dd}일 출생자입니다.\\n나이는\\\n",
    "     {age}살 이며, {gen}\")\n"
   ]
  },
  {
   "cell_type": "markdown",
   "metadata": {},
   "source": [
    "> Q4   \n",
    "``` py   \n",
    "    주민등록번호 뒷자리의 맨 첫 번째 숫자는 성별을 나타낸다.    \n",
    "    주민등록번호에서 성별을 나타내는 숫자를 출력해 보자.   \n",
    "```"
   ]
  },
  {
   "cell_type": "code",
   "execution_count": 86,
   "metadata": {},
   "outputs": [
    {
     "name": "stdout",
     "output_type": "stream",
     "text": [
      "여성입니다.\n"
     ]
    }
   ],
   "source": [
    "pin      = \"930809-2951111\"\n",
    "gender   = pin[7]\n",
    "if gender == \"1\" or gender == \"3\":\n",
    "    print(\"남성입니다.\")\n",
    "elif gender == \"2\" or gender == \"4\":\n",
    "    print(\"여성입니다.\")\n",
    "else :\n",
    "    print(\"정확한 주민번호를 입력하세요\")"
   ]
  },
  {
   "cell_type": "markdown",
   "metadata": {},
   "source": [
    "> Q5   \n",
    "``` py\n",
    "    다음과 같은 문자열 a:b:c:d가 있다.    \n",
    "    문자열의 replace 함수를 사용하여 a#b#c#d로 바꿔서 출력해 보자.   \n",
    "```"
   ]
  },
  {
   "cell_type": "code",
   "execution_count": 89,
   "metadata": {},
   "outputs": [
    {
     "name": "stdout",
     "output_type": "stream",
     "text": [
      "a#b#c#d\n"
     ]
    }
   ],
   "source": [
    "str = \"a:b:c:d\"\n",
    "change = str.replace(\":\",\"#\")\n",
    "\n",
    "print(change)\n"
   ]
  },
  {
   "cell_type": "code",
   "execution_count": 55,
   "metadata": {},
   "outputs": [
    {
     "name": "stdout",
     "output_type": "stream",
     "text": [
      "Java Programming\n",
      "abcd abcd abcd\n",
      "abcd\n",
      "abcd\n",
      "a:b:c:d:"
     ]
    }
   ],
   "source": [
    "str = \"a:b:c:d\"\n",
    "change = str.replace(\":\",\"#\")\n",
    "\n",
    "tt = \"12:03:21\"\n",
    "tt.replace(\":\",\"/\")\n",
    "\n",
    "te = \"Python Programming\"\n",
    "print(te.replace(\"Python\", \"Java\"))\n",
    "\n",
    "strs = \"abcd\"\n",
    "print(strs, end=\" \")\n",
    "print(strs, end=\" \")\n",
    "print(strs, end=\"\\n\")\n",
    "print(strs)\n",
    "print(strs)\n",
    "\n",
    "for c in \"abcd\":\n",
    "    print(c,end=\":\")"
   ]
  },
  {
   "cell_type": "markdown",
   "metadata": {},
   "source": [
    "> Q6.   \n",
    "``` py   \n",
    "    [1, 3, 5, 4, 2]라는 리스트를 [5, 4, 3, 2, 1]로 만들어보자.   \n",
    "```"
   ]
  },
  {
   "cell_type": "code",
   "execution_count": 82,
   "metadata": {},
   "outputs": [
    {
     "name": "stdout",
     "output_type": "stream",
     "text": [
      "[5, 4, 3, 2, 1]\n"
     ]
    }
   ],
   "source": [
    "# 1. 슬라이싱\n",
    "def reverse_int(list):\n",
    "    list.sort()\n",
    "    return list[::-1]\n",
    "print(reverse_int([1,3,5,4,2]))"
   ]
  },
  {
   "cell_type": "code",
   "execution_count": 22,
   "metadata": {},
   "outputs": [
    {
     "name": "stdout",
     "output_type": "stream",
     "text": [
      "[5, 4, 3, 2, 1]\n"
     ]
    }
   ],
   "source": [
    "# 2. reverse()함수\n",
    "list=[1,3,5,4,2]\n",
    "list.sort()\n",
    "list.reverse()\n",
    "print(list)"
   ]
  },
  {
   "cell_type": "code",
   "execution_count": 75,
   "metadata": {},
   "outputs": [
    {
     "name": "stdout",
     "output_type": "stream",
     "text": [
      "[5, 4, 3, 2, 1]\n"
     ]
    }
   ],
   "source": [
    "list=[1,3,5,4,2]\n",
    "list.sort()\n",
    "print(list[::-1])"
   ]
  },
  {
   "cell_type": "code",
   "execution_count": 85,
   "metadata": {},
   "outputs": [
    {
     "name": "stdout",
     "output_type": "stream",
     "text": [
      "[20, 30, 40, 50, 95, 100]\n",
      "[100, 95, 50, 40, 30, 20]\n"
     ]
    },
    {
     "data": {
      "text/plain": [
       "True"
      ]
     },
     "execution_count": 85,
     "metadata": {},
     "output_type": "execute_result"
    }
   ],
   "source": [
    "li = [100, 30, 50, 40, 20, 95]\n",
    "li.sort()\n",
    "print(li)\n",
    "li.reverse()\n",
    "print(li)\n",
    "max(li)\n",
    "max(li) == li[0]\n",
    "min(li) == li[-1]"
   ]
  },
  {
   "cell_type": "code",
   "execution_count": null,
   "metadata": {},
   "outputs": [],
   "source": [
    "# 3. max 활용?\n",
    "#list[1,3,5,4,2] 를 [5,4,3,2,1] 로바꾸기\n",
    "#함수를 사용하고싶다\n",
    "#빈 list a[] 에 큰수 부터 넣고싶다\n",
    "#반복문을 사용해야겠다 5번\n",
    "# \n",
    "\n",
    "\n",
    "# list=[1,3,5,4,2]\n",
    "# a = []\n",
    "# for i in range(len(list)):\n",
    "# 수정중\n",
    "# print(a)\n",
    "    "
   ]
  },
  {
   "cell_type": "markdown",
   "metadata": {},
   "source": [
    "> Q7.   \n",
    "``` py   \n",
    "    ['Life', 'is', 'too', 'short'] 라는 리스트를 Life is too short라는 문자열로 만들어 출력해 보자.   \n",
    "```"
   ]
  },
  {
   "cell_type": "code",
   "execution_count": 99,
   "metadata": {},
   "outputs": [
    {
     "name": "stdout",
     "output_type": "stream",
     "text": [
      "Life is too short\n"
     ]
    }
   ],
   "source": [
    "old_text = ['Life', 'is', 'too', 'short']\n",
    "# 1.new_text = old_text[0] + old_text[1] + old_text[2] + old_text[3]\n",
    "# 2.new_text = \"\"\n",
    "# for s in old_text:\n",
    "#     print(new_text)\n",
    "#     new_text += s + \" \"\n",
    "# print(new_text)\n",
    "#\n",
    "# 3.\n",
    "new_text = \"{} {} {} {}\".format(old_text[0],old_text[1],old_text[2],old_text[3])\n",
    "print(new_text)"
   ]
  },
  {
   "cell_type": "markdown",
   "metadata": {},
   "source": [
    "> Q8.   \n",
    "``` py   \n",
    "    (1,2,3)이라는 튜플에 4라는 값을 추가하여 (1,2,3,4)처럼 만들어 출력해 보자.   \n",
    "```"
   ]
  },
  {
   "cell_type": "code",
   "execution_count": 116,
   "metadata": {},
   "outputs": [
    {
     "name": "stdout",
     "output_type": "stream",
     "text": [
      "li = [100, 2, 3, 4]\n",
      "(1, 2, 3, 4)\n",
      "(1, 2, 3, 4)\n"
     ]
    }
   ],
   "source": [
    "# objects = ['a', 1, True, [100, 200,['x','y']]]\n",
    "# objects[3][2][1]\n",
    "\n",
    "li = [1, 2, 3]\n",
    "tu = (1, 2, 3)\n",
    "\n",
    "li.append(4)\n",
    "li[0] = 100\n",
    "print(\"li =\", li)\n",
    "\n",
    "tu = tu + (4,)\n",
    "print(tu)\n",
    "\n",
    "li2 = [1,2,3,4]\n",
    "tu2 = tuple(li2)\n",
    "print(tu2)"
   ]
  },
  {
   "cell_type": "markdown",
   "metadata": {},
   "source": [
    "> Q9.   \n",
    "``` py   \n",
    "    다음과 같은 딕셔너리 a가 있다. 다음 중 오류가 발생하는 경우는 어떤 경우인가?   \n",
    "    그리고 그 이유를 설명해 보자.   \n",
    "    >>> a = dict()   \n",
    "    >>> a   \n",
    "    {}   \n",
    "\n",
    "    다음 중 오류가 발생하는 경우를 고르고, 그 이유를 설명해 보자.   \n",
    "\n",
    "    1. a['name'] = 'python'   \n",
    "    2. a[('a',)] = 'python'   \n",
    "    3. a[[1]] = 'python'   \n",
    "    4. a[250] = 'python'   \n",
    "```"
   ]
  },
  {
   "cell_type": "code",
   "execution_count": 136,
   "metadata": {},
   "outputs": [
    {
     "name": "stdout",
     "output_type": "stream",
     "text": [
      "{'name': 'python'}\n",
      "{'name': 'python', ('a',): 'python'}\n",
      "{'name': 'python', ('a',): 'python', 250: 'python'}\n",
      "{'name': 'java', ('a',): 'python', 250: 'python'}\n"
     ]
    },
    {
     "ename": "TypeError",
     "evalue": "unhashable type: 'list'",
     "output_type": "error",
     "traceback": [
      "\u001b[1;31m---------------------------------------------------------------------------\u001b[0m",
      "\u001b[1;31mTypeError\u001b[0m                                 Traceback (most recent call last)",
      "Input \u001b[1;32mIn [136]\u001b[0m, in \u001b[0;36m<module>\u001b[1;34m\u001b[0m\n\u001b[0;32m     13\u001b[0m \u001b[38;5;66;03m# 딕셔너리   KET값은 중복이 될수 없다.\u001b[39;00m\n\u001b[0;32m     14\u001b[0m \u001b[38;5;66;03m# error List 는 변경이 가능한 자료형이여서 KEY값으로 사용할 수 없다.\u001b[39;00m\n\u001b[0;32m     15\u001b[0m a \u001b[38;5;241m=\u001b[39m \u001b[38;5;28mdict\u001b[39m()\n\u001b[1;32m---> 16\u001b[0m a[[\u001b[38;5;241m1\u001b[39m]] \u001b[38;5;241m=\u001b[39m \u001b[38;5;124m\"\u001b[39m\u001b[38;5;124mpython\u001b[39m\u001b[38;5;124m\"\u001b[39m\n\u001b[0;32m     17\u001b[0m \u001b[38;5;28mprint\u001b[39m(a)\n",
      "\u001b[1;31mTypeError\u001b[0m: unhashable type: 'list'"
     ]
    }
   ],
   "source": [
    "a = dict()\n",
    "a['name'] = \"python\"\n",
    "print(a)\n",
    "\n",
    "a[('a',)] = 'python'\n",
    "print(a)\n",
    "\n",
    "a[250]    = \"python\"\n",
    "print(a)\n",
    "\n",
    "a['name'] = \"java\"\n",
    "print(a)\n",
    "\n",
    "# 딕셔너리   KET값은 중복이 될수 없다.\n",
    "# error List 는 변경이 가능한 자료형이여서 KEY값으로 사용할 수 없다.\n",
    "a = dict()\n",
    "a[[1]] = \"python\"\n",
    "print(a)\n",
    "\n"
   ]
  },
  {
   "cell_type": "code",
   "execution_count": 138,
   "metadata": {},
   "outputs": [
    {
     "ename": "TypeError",
     "evalue": "'str' object does not support item assignment",
     "output_type": "error",
     "traceback": [
      "\u001b[1;31m---------------------------------------------------------------------------\u001b[0m",
      "\u001b[1;31mTypeError\u001b[0m                                 Traceback (most recent call last)",
      "Input \u001b[1;32mIn [138]\u001b[0m, in \u001b[0;36m<module>\u001b[1;34m\u001b[0m\n\u001b[0;32m      1\u001b[0m text \u001b[38;5;241m=\u001b[39m \u001b[38;5;124m\"\u001b[39m\u001b[38;5;124mPython\u001b[39m\u001b[38;5;124m\"\u001b[39m\n\u001b[1;32m----> 2\u001b[0m text[\u001b[38;5;241m0\u001b[39m] \u001b[38;5;241m=\u001b[39m \u001b[38;5;124m'\u001b[39m\u001b[38;5;124mJ\u001b[39m\u001b[38;5;124m'\u001b[39m\n\u001b[0;32m      3\u001b[0m \u001b[38;5;28mprint\u001b[39m(text)\n",
      "\u001b[1;31mTypeError\u001b[0m: 'str' object does not support item assignment"
     ]
    }
   ],
   "source": [
    "# 상수 = 변할수 없다.\n",
    "\n",
    "text    = \"Python\"\n",
    "text[0] = 'J'\n",
    "print(text)"
   ]
  },
  {
   "cell_type": "markdown",
   "metadata": {},
   "source": [
    "> Q10   \n",
    "``` py   \n",
    "    딕셔너리 a에서 'B'에 해당되는 값을 추출해 보자.   \n",
    "\n",
    "    >>> a = {'A':90, 'B':80, 'C':70}   \n",
    "    ※ 딕셔너리의 pop 함수를 사용해 보자.   \n",
    "```"
   ]
  },
  {
   "cell_type": "code",
   "execution_count": 149,
   "metadata": {},
   "outputs": [
    {
     "name": "stdout",
     "output_type": "stream",
     "text": [
      "{'A': 90, 'B': 80, 'C': 70}\n",
      "80\n",
      "{'A': 90, 'C': 70}\n",
      "90\n",
      "{'C': 70}\n"
     ]
    },
    {
     "ename": "TypeError",
     "evalue": "'dict' object is not callable",
     "output_type": "error",
     "traceback": [
      "\u001b[1;31m---------------------------------------------------------------------------\u001b[0m",
      "\u001b[1;31mTypeError\u001b[0m                                 Traceback (most recent call last)",
      "Input \u001b[1;32mIn [149]\u001b[0m, in \u001b[0;36m<module>\u001b[1;34m\u001b[0m\n\u001b[0;32m      5\u001b[0m \u001b[38;5;28mprint\u001b[39m(a\u001b[38;5;241m.\u001b[39mpop(\u001b[38;5;124m\"\u001b[39m\u001b[38;5;124mA\u001b[39m\u001b[38;5;124m\"\u001b[39m))\n\u001b[0;32m      6\u001b[0m \u001b[38;5;28mprint\u001b[39m(a)\n\u001b[1;32m----> 7\u001b[0m \u001b[38;5;28mprint\u001b[39m(\u001b[43ma\u001b[49m\u001b[43m(\u001b[49m\u001b[38;5;124;43m\"\u001b[39;49m\u001b[38;5;124;43mA\u001b[39;49m\u001b[38;5;124;43m\"\u001b[39;49m\u001b[43m)\u001b[49m)\n",
      "\u001b[1;31mTypeError\u001b[0m: 'dict' object is not callable"
     ]
    }
   ],
   "source": [
    "a = {'A':90, 'B':80, 'C':70} \n",
    "print(a)\n",
    "print(a.pop('B'))\n",
    "print(a)\n",
    "print(a.pop(\"A\"))\n",
    "print(a)\n"
   ]
  },
  {
   "cell_type": "markdown",
   "metadata": {},
   "source": [
    "> Q11   \n",
    "``` py   \n",
    "    a 리스트에서 중복 숫자를 제거해 보자.   \n",
    "\n",
    "    >>> a = [1, 1, 1, 2, 2, 3, 3, 3, 4, 4, 5]    \n",
    "    ※ 집합 자료형의 요솟값이 중복될 수 없다는 특징을 사용해 보자.    \n",
    "```"
   ]
  },
  {
   "cell_type": "code",
   "execution_count": 150,
   "metadata": {},
   "outputs": [
    {
     "name": "stdout",
     "output_type": "stream",
     "text": [
      "[1, 1, 1, 2, 2, 3, 3, 3, 4, 4, 5]\n",
      "{1, 2, 3, 4, 5}\n"
     ]
    }
   ],
   "source": [
    "a = [1,1,1,2,2,3,3,3,4,4,5]\n",
    "# [1,2,3] #list\n",
    "# (1,2,3) # 튜플(상수)\n",
    "# {\"a\":1, \"b\":2, \"c\":3} # dict\n",
    "# {1,2,3} # set\n",
    "\n",
    "print(a)\n",
    "print(set(a))"
   ]
  },
  {
   "cell_type": "markdown",
   "metadata": {},
   "source": [
    "> Q12   \n",
    "``` py   \n",
    "    파이썬은 다음처럼 동일한 값에 여러 개의 변수를 선언할 수 있다.    \n",
    "    다음과 같이 a, b 변수를 선언한 후 a의 두 번째 요솟값을 변경하면 b 값은 어떻게 될까?    \n",
    "    그리고 이런 결과가 오는 이유에 대해 설명해 보자.   \n",
    "\n",
    "    >>> a = b = [1, 2, 3]   \n",
    "    >>> a[1] = 4   \n",
    "    >>> print(b)   \n",
    "```"
   ]
  },
  {
   "cell_type": "code",
   "execution_count": 144,
   "metadata": {},
   "outputs": [
    {
     "name": "stdout",
     "output_type": "stream",
     "text": [
      "[1, 4, 3]\n"
     ]
    }
   ],
   "source": [
    "# 연산자는 우선순위 연산이 있다\n",
    "# 대입은 항상 왼쪽에서 부터 시작한다.\n",
    "\n",
    "a = b =[1,2,3]\n",
    "a[1] =4\n",
    "print(b)"
   ]
  },
  {
   "cell_type": "code",
   "execution_count": 153,
   "metadata": {},
   "outputs": [
    {
     "name": "stdout",
     "output_type": "stream",
     "text": [
      "1751219692672\n",
      "1751219686784\n"
     ]
    }
   ],
   "source": [
    "# a = b =[1,2,3]\n",
    "# print(id(a))\n",
    "# print(id(b))\n",
    "\n",
    "a = [1, 2, 3]\n",
    "b = [1, 2, 3]\n",
    "\n",
    "print(id(a))\n",
    "print(id(b))\n",
    "\n",
    "a[1] = 4\n",
    "print(a)\n",
    "print(b)"
   ]
  }
 ],
 "metadata": {
  "interpreter": {
   "hash": "4aa7a001941c8b447200068b1d71a3924cf04f02fe096f0aa27a7230a4a7f943"
  },
  "kernelspec": {
   "display_name": "Python 3.10.1 64-bit",
   "language": "python",
   "name": "python3"
  },
  "language_info": {
   "codemirror_mode": {
    "name": "ipython",
    "version": 3
   },
   "file_extension": ".py",
   "mimetype": "text/x-python",
   "name": "python",
   "nbconvert_exporter": "python",
   "pygments_lexer": "ipython3",
   "version": "3.10.1"
  },
  "orig_nbformat": 4
 },
 "nbformat": 4,
 "nbformat_minor": 2
}
