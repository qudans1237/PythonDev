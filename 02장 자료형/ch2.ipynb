{
 "cells": [
  {
   "cell_type": "markdown",
   "metadata": {},
   "source": [
    "##### 점프 투 파이썬\n",
    "---\n",
    "02장 "
   ]
  },
  {
   "cell_type": "markdown",
   "metadata": {},
   "source": [
    "> Q1    \n",
    "``` py\n",
    "    홍길동 씨의 과목별 점수는 다음과 같다. 홍길동 씨의 평균 점수를 구해 보자.\n",
    "\n",
    "    과목\t점수\n",
    "    국어\t80\n",
    "    영어\t75\n",
    "    수학\t55   \n",
    "```"
   ]
  },
  {
   "cell_type": "code",
   "execution_count": 5,
   "metadata": {},
   "outputs": [
    {
     "name": "stdout",
     "output_type": "stream",
     "text": [
      "평균은  70 입니다.\n"
     ]
    }
   ],
   "source": [
    "#과목별 점수\n",
    "korean  = 80\n",
    "english = 75\n",
    "math    = 55\n",
    "\n",
    "# 총합\n",
    "sum     = korean + english + math\n",
    "# 평균\n",
    "avg     = sum/3\n",
    "#평균 값에 소숫점 없애기\n",
    "a =(\"%0.0f\" % avg)\n",
    "\n",
    "#값 \n",
    "print(\"평균은 \", a, \"입니다.\")"
   ]
  },
  {
   "cell_type": "code",
   "execution_count": 73,
   "metadata": {},
   "outputs": [
    {
     "name": "stdout",
     "output_type": "stream",
     "text": [
      "70\n"
     ]
    }
   ],
   "source": [
    "# print(type([]))\n",
    "subjects = [80, 75, 55]\n",
    "subjects[0]\n",
    "\n",
    "total = subjects[0] + subjects[1] + subjects[2]\n",
    "# len(subjects)\n",
    "\n",
    "# print(subjects)\n",
    "# print(total)\n",
    "# help(subjects)\n",
    "avg = \"%0.0f\" %(total / len(subjects))\n",
    "print(avg)"
   ]
  },
  {
   "cell_type": "code",
   "execution_count": 85,
   "metadata": {},
   "outputs": [
    {
     "name": "stdout",
     "output_type": "stream",
     "text": [
      "avg = 70.0\n"
     ]
    }
   ],
   "source": [
    "subjects = {\n",
    "    \"국어\":80,\n",
    "    \"영어\":75, \n",
    "    \"수학\": 55\n",
    "    }\n",
    "subjects[\"수학\"]\n",
    "# print(type({}))\n",
    "total = subjects[\"국어\"] + subjects[\"영어\"] + subjects[\"수학\"]\n",
    "avg = total / len(subjects)\n",
    "print(\"avg =\", avg)"
   ]
  },
  {
   "cell_type": "code",
   "execution_count": 88,
   "metadata": {},
   "outputs": [
    {
     "name": "stdout",
     "output_type": "stream",
     "text": [
      "1\n"
     ]
    }
   ],
   "source": [
    "# 사용자로부터 이름과 성적을 입력받아 총점과 평균을 구해 출력하는\n",
    "# 프로그램을 작성하시오\n",
    "# input()\n",
    "# input()\n",
    "name = input(\"이름을 입력하세요: \")\n",
    "kor = input(\"국어 점수를 입력하세요 : \")\n",
    "eng = input(\"영어 점수를 입력하세요 : \")\n",
    "math = input(\"수학 점수를 입력하세요 : \")\n",
    "\n",
    "total = int(kor) + int(eng) + int(math) #형변환 str >> int\n",
    "avg = total / 3\n",
    "\n",
    "print(name, \"님의 총점 = \", total, \"평균은 : \", avg, \"입니다.\")"
   ]
  },
  {
   "cell_type": "markdown",
   "metadata": {},
   "source": [
    "> Q2   \n",
    "``` py\n",
    "    자연수 13이 홀수인지 짝수인지 판별할 수 있는 방법에 대해 말해 보자.\n",
    "```"
   ]
  },
  {
   "cell_type": "code",
   "execution_count": 35,
   "metadata": {},
   "outputs": [
    {
     "name": "stdout",
     "output_type": "stream",
     "text": [
      "짝수 입니다.\n"
     ]
    }
   ],
   "source": [
    "#자연수 a \n",
    "a = 12\n",
    "# 홀수 판별 방법\n",
    "b = a % 2\n",
    "\n",
    "#자연수 a가 짝수인지 혹은 홀수인지 판별하는 조건식\n",
    "if b == 0:\n",
    "    print(\"짝수 입니다.\")\n",
    "elif b == 1:\n",
    "    print(\"홀수 입니다.\")\n",
    "else :\n",
    "    print(\"정확한 값을 입력해주세요.\")"
   ]
  },
  {
   "cell_type": "markdown",
   "metadata": {},
   "source": [
    "> Q3   \n",
    "``` py   \n",
    "    홍길동 씨의 주민등록번호는 881120-1068234이다.  \n",
    "    홍길동 씨의 주민등록번호를 연월일(YYYYMMDD) 부분과 그 뒤의 숫자 부분으로 나누어 출력해 보자.\n",
    "```"
   ]
  },
  {
   "cell_type": "code",
   "execution_count": 83,
   "metadata": {},
   "outputs": [
    {
     "name": "stdout",
     "output_type": "stream",
     "text": [
      "930809\n",
      "93\n",
      "08\n",
      "09\n",
      "2951111\n",
      "여성입니다.\n"
     ]
    }
   ],
   "source": [
    "pin      = \"930809-2951111\"\n",
    "yyyymmdd = pin[:6] # pin[0:6] 으로도 사용 가능\n",
    "num      = pin[7:] # pin[7:0] 으로도 사용가능\n",
    "yyyy     = pin[:2]\n",
    "mm       = pin[2:4]\n",
    "dd       = pin[4:6]\n",
    "gender   = pin[7]\n",
    "\n",
    "print(yyyymmdd)  # 881120 출력\n",
    "print(yyyy)\n",
    "print(mm)\n",
    "print(dd)\n",
    "print(num)       # 1068234 출력\n",
    "\n",
    "\n",
    "if gender == \"1\" or gender == \"3\":\n",
    "    print(\"남성입니다.\")\n",
    "elif gender == \"2\" or gender == \"4\":\n",
    "    print(\"여성입니다.\")\n",
    "else :\n",
    "    print(\"정확한 주민번호를 입력하세요\")"
   ]
  },
  {
   "cell_type": "markdown",
   "metadata": {},
   "source": [
    "> Q4   \n",
    "``` py   \n",
    "    주민등록번호 뒷자리의 맨 첫 번째 숫자는 성별을 나타낸다.    \n",
    "    주민등록번호에서 성별을 나타내는 숫자를 출력해 보자.   \n",
    "```"
   ]
  },
  {
   "cell_type": "code",
   "execution_count": 86,
   "metadata": {},
   "outputs": [
    {
     "name": "stdout",
     "output_type": "stream",
     "text": [
      "여성입니다.\n"
     ]
    }
   ],
   "source": [
    "pin      = \"930809-2951111\"\n",
    "gender   = pin[7]\n",
    "if gender == \"1\" or gender == \"3\":\n",
    "    print(\"남성입니다.\")\n",
    "elif gender == \"2\" or gender == \"4\":\n",
    "    print(\"여성입니다.\")\n",
    "else :\n",
    "    print(\"정확한 주민번호를 입력하세요\")"
   ]
  },
  {
   "cell_type": "markdown",
   "metadata": {},
   "source": [
    "> Q5   \n",
    "``` py\n",
    "    다음과 같은 문자열 a:b:c:d가 있다.    \n",
    "    문자열의 replace 함수를 사용하여 a#b#c#d로 바꿔서 출력해 보자.   \n",
    "```"
   ]
  },
  {
   "cell_type": "code",
   "execution_count": 89,
   "metadata": {},
   "outputs": [
    {
     "name": "stdout",
     "output_type": "stream",
     "text": [
      "a#b#c#d\n"
     ]
    }
   ],
   "source": [
    "str = \"a:b:c:d\"\n",
    "change = str.replace(\":\",\"#\")\n",
    "\n",
    "print(change)\n"
   ]
  },
  {
   "cell_type": "markdown",
   "metadata": {},
   "source": [
    "> Q6.   \n",
    "``` py   \n",
    "    [1, 3, 5, 4, 2]라는 리스트를 [5, 4, 3, 2, 1]로 만들어보자.   \n",
    "```"
   ]
  },
  {
   "cell_type": "code",
   "execution_count": null,
   "metadata": {},
   "outputs": [],
   "source": [
    "list = [1,3,5,4,2]"
   ]
  },
  {
   "cell_type": "markdown",
   "metadata": {},
   "source": [
    "> Q7.   \n",
    "``` py   \n",
    "    ['Life', 'is', 'too', 'short'] 라는 리스트를 Life is too short라는 문자열로 만들어 출력해 보자.   \n",
    "```"
   ]
  },
  {
   "cell_type": "markdown",
   "metadata": {},
   "source": [
    "> Q8.   \n",
    "``` py   \n",
    "    (1,2,3)이라는 튜플에 4라는 값을 추가하여 (1,2,3,4)처럼 만들어 출력해 보자.   \n",
    "```"
   ]
  },
  {
   "cell_type": "markdown",
   "metadata": {},
   "source": [
    "> Q9.   \n",
    "``` py   \n",
    "    다음과 같은 딕셔너리 a가 있다. 다음 중 오류가 발생하는 경우는 어떤 경우인가?   \n",
    "    그리고 그 이유를 설명해 보자.   \n",
    "    >>> a = dict()   \n",
    "    >>> a   \n",
    "    {}   \n",
    "\n",
    "    다음 중 오류가 발생하는 경우를 고르고, 그 이유를 설명해 보자.   \n",
    "\n",
    "    1. a['name'] = 'python'   \n",
    "    2. a[('a',)] = 'python'   \n",
    "    3. a[[1]] = 'python'   \n",
    "    4. a[250] = 'python'   \n",
    "```"
   ]
  },
  {
   "cell_type": "markdown",
   "metadata": {},
   "source": [
    "> Q10   \n",
    "``` py   \n",
    "    딕셔너리 a에서 'B'에 해당되는 값을 추출해 보자.   \n",
    "\n",
    "    >>> a = {'A':90, 'B':80, 'C':70}   \n",
    "    ※ 딕셔너리의 pop 함수를 사용해 보자.   \n",
    "```"
   ]
  },
  {
   "cell_type": "markdown",
   "metadata": {},
   "source": [
    "> Q11   \n",
    "``` py   \n",
    "    a 리스트에서 중복 숫자를 제거해 보자.   \n",
    "\n",
    "    >>> a = [1, 1, 1, 2, 2, 3, 3, 3, 4, 4, 5]    \n",
    "    ※ 집합 자료형의 요솟값이 중복될 수 없다는 특징을 사용해 보자.    \n",
    "```"
   ]
  },
  {
   "cell_type": "markdown",
   "metadata": {},
   "source": [
    "> Q12   \n",
    "``` py   \n",
    "    파이썬은 다음처럼 동일한 값에 여러 개의 변수를 선언할 수 있다.    \n",
    "    다음과 같이 a, b 변수를 선언한 후 a의 두 번째 요솟값을 변경하면 b 값은 어떻게 될까?    \n",
    "    그리고 이런 결과가 오는 이유에 대해 설명해 보자.   \n",
    "\n",
    "    >>> a = b = [1, 2, 3]   \n",
    "    >>> a[1] = 4   \n",
    "    >>> print(b)   \n",
    "```"
   ]
  }
 ],
 "metadata": {
  "interpreter": {
   "hash": "4aa7a001941c8b447200068b1d71a3924cf04f02fe096f0aa27a7230a4a7f943"
  },
  "kernelspec": {
   "display_name": "Python 3.10.1 64-bit",
   "language": "python",
   "name": "python3"
  },
  "language_info": {
   "codemirror_mode": {
    "name": "ipython",
    "version": 3
   },
   "file_extension": ".py",
   "mimetype": "text/x-python",
   "name": "python",
   "nbconvert_exporter": "python",
   "pygments_lexer": "ipython3",
   "version": "3.10.1"
  },
  "orig_nbformat": 4
 },
 "nbformat": 4,
 "nbformat_minor": 2
}
