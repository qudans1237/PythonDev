{
 "cells": [
  {
   "cell_type": "code",
   "execution_count": 9,
   "metadata": {},
   "outputs": [
    {
     "name": "stdout",
     "output_type": "stream",
     "text": [
      "<class 'int'>\n"
     ]
    },
    {
     "data": {
      "text/plain": [
       "'0b1000001'"
      ]
     },
     "execution_count": 9,
     "metadata": {},
     "output_type": "execute_result"
    }
   ],
   "source": [
    "i = 65 # 65를 i에 담는다가 아니라 65라는 객체가 생성되고 \n",
    "        # i라는 변수가 그 객체 주소를 참조 하는 것 \n",
    "print(type(i))\n",
    "i.bit_length()\n",
    "bin(i)"
   ]
  },
  {
   "cell_type": "code",
   "execution_count": 16,
   "metadata": {},
   "outputs": [
    {
     "name": "stdout",
     "output_type": "stream",
     "text": [
      "65\n",
      "66\n",
      "A\n",
      "B\n",
      "Z\n",
      "1\n"
     ]
    },
    {
     "data": {
      "text/plain": [
       "'0b101011'"
      ]
     },
     "execution_count": 16,
     "metadata": {},
     "output_type": "execute_result"
    }
   ],
   "source": [
    "print(ord('A')) # 인코딩 : 문자열을 숫자로\n",
    "print(ord(\"B\"))\n",
    "#shift + art + 아래 화살표 = 복사 붙여넣기 \n",
    "\n",
    "print(chr(65)) # 디코딩 : 숫자를 문자열로 \n",
    "print(chr(65+1))\n",
    "print(chr(65+25))\n",
    "\n",
    "a = 0\n",
    "b = 1\n",
    "c = a + b\n",
    "print(c)\n",
    "\n",
    "bin(ord('a')) # 바이널리\n",
    "bin(ord('+'))"
   ]
  },
  {
   "cell_type": "code",
   "execution_count": 22,
   "metadata": {},
   "outputs": [
    {
     "name": "stdout",
     "output_type": "stream",
     "text": [
      "314.0\n",
      "314.0\n",
      "0.0314\n"
     ]
    }
   ],
   "source": [
    "print(3.14E2)\n",
    "print(3.14*10**2)\n",
    "print(3.14E-2)\n"
   ]
  }
 ],
 "metadata": {
  "interpreter": {
   "hash": "8931d08a56ba8ec5bd4013e6d6c9066a90d099ecd0b9731835efa4c48cf46a24"
  },
  "kernelspec": {
   "display_name": "Python 3.10.1 64-bit",
   "language": "python",
   "name": "python3"
  },
  "language_info": {
   "codemirror_mode": {
    "name": "ipython",
    "version": 3
   },
   "file_extension": ".py",
   "mimetype": "text/x-python",
   "name": "python",
   "nbconvert_exporter": "python",
   "pygments_lexer": "ipython3",
   "version": "3.10.1"
  },
  "orig_nbformat": 4
 },
 "nbformat": 4,
 "nbformat_minor": 2
}
