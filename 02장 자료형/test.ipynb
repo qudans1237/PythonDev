{
 "cells": [
  {
   "cell_type": "code",
   "execution_count": 9,
   "metadata": {},
   "outputs": [
    {
     "name": "stdout",
     "output_type": "stream",
     "text": [
      "<class 'int'>\n"
     ]
    },
    {
     "data": {
      "text/plain": [
       "'0b1000001'"
      ]
     },
     "execution_count": 9,
     "metadata": {},
     "output_type": "execute_result"
    }
   ],
   "source": [
    "i = 65 # 65를 i에 담는다가 아니라 65라는 객체가 생성되고 \n",
    "        # i라는 변수가 그 객체 주소를 참조 하는 것 \n",
    "print(type(i))\n",
    "i.bit_length()\n",
    "bin(i)"
   ]
  },
  {
   "cell_type": "code",
   "execution_count": 16,
   "metadata": {},
   "outputs": [
    {
     "name": "stdout",
     "output_type": "stream",
     "text": [
      "65\n",
      "66\n",
      "A\n",
      "B\n",
      "Z\n",
      "1\n"
     ]
    },
    {
     "data": {
      "text/plain": [
       "'0b101011'"
      ]
     },
     "execution_count": 16,
     "metadata": {},
     "output_type": "execute_result"
    }
   ],
   "source": [
    "print(ord('A')) # 인코딩 : 문자열을 숫자로\n",
    "print(ord(\"B\"))\n",
    "#shift + art + 아래 화살표 = 복사 붙여넣기 \n",
    "\n",
    "print(chr(65)) # 디코딩 : 숫자를 문자열로 \n",
    "print(chr(65+1))\n",
    "print(chr(65+25))\n",
    "\n",
    "a = 0\n",
    "b = 1\n",
    "c = a + b\n",
    "print(c)\n",
    "\n",
    "bin(ord('a')) # 바이널리\n",
    "bin(ord('+'))"
   ]
  },
  {
   "cell_type": "code",
   "execution_count": 22,
   "metadata": {},
   "outputs": [
    {
     "name": "stdout",
     "output_type": "stream",
     "text": [
      "314.0\n",
      "314.0\n",
      "0.0314\n"
     ]
    }
   ],
   "source": [
    "print(3.14E2)\n",
    "print(3.14*10**2)\n",
    "print(3.14E-2)\n"
   ]
  },
  {
   "cell_type": "code",
   "execution_count": 3,
   "metadata": {},
   "outputs": [
    {
     "name": "stdout",
     "output_type": "stream",
     "text": [
      "C:\\PythonDev\\name\n"
     ]
    }
   ],
   "source": [
    "path = \"C:\\PythonDev\\\\name\"\n",
    "path = \"C:/PythonDev/name\"\n",
    "print(path)"
   ]
  },
  {
   "cell_type": "code",
   "execution_count": 6,
   "metadata": {},
   "outputs": [
    {
     "data": {
      "text/plain": [
       "'❤'"
      ]
     },
     "execution_count": 6,
     "metadata": {},
     "output_type": "execute_result"
    }
   ],
   "source": [
    "\"❤\" * 10\n",
    "ord('A')\n",
    "ord('한')\n",
    "ord(\"❤\")\n",
    "\n",
    "chr(10084)"
   ]
  },
  {
   "cell_type": "code",
   "execution_count": 18,
   "metadata": {},
   "outputs": [
    {
     "data": {
      "text/plain": [
       "5"
      ]
     },
     "execution_count": 18,
     "metadata": {},
     "output_type": "execute_result"
    }
   ],
   "source": [
    "# 인덱싱과 슬라이싱\n",
    "#       0123456789012345678901234567890123\n",
    "text = \"Life is too short, You need Python\"\n",
    "\n",
    "text[19]\n",
    "text[0]\n",
    "text[-1]\n",
    "text[-15] == text[19]\n",
    "\n",
    "text[0:4]\n",
    "\n",
    "text[28:]\n",
    "text[:4]\n",
    "\n",
    "text[::2]\n",
    "\n",
    "li = [1,2,3,4,5]\n",
    "li[:2+1]\n",
    "li[-1]"
   ]
  },
  {
   "cell_type": "code",
   "execution_count": 52,
   "metadata": {},
   "outputs": [
    {
     "name": "stdout",
     "output_type": "stream",
     "text": [
      "삐약이님의 국어 점수는 70점입니다.\n"
     ]
    }
   ],
   "source": [
    "# 문자열 포매팅\n",
    "\n",
    "name    = [\"고영희\", \"강아지\", \"삐약이\"]\n",
    "subject = \"국어\"\n",
    "score   = [95, 80, 70]\n",
    "\n",
    "for n in range(len(name)) :\n",
    "    text = \"%s님의 %s 점수는 %d점입니다.\" % (name[n], subject, score[n])\n",
    "\n",
    "\n",
    "#text = \"%s님의 %s 점수는 %d점입니다.\" %(name, subject, score)\n",
    "# print(name + \"님의 \" + subject +\" 점수는 \"+ str(score) +\"점입니다.\")\n",
    "print(text)"
   ]
  },
  {
   "cell_type": "code",
   "execution_count": 59,
   "metadata": {},
   "outputs": [
    {
     "name": "stdout",
     "output_type": "stream",
     "text": [
      "영희님의 수학 점수는 95점입니다.\n"
     ]
    }
   ],
   "source": [
    "# \"문자열\".format()\n",
    "name = \"영희\"\n",
    "sub  = \"수학\"\n",
    "score = 95\n",
    "\n",
    "for n in range(len(name)):\n",
    "    text = \"{0}님의 {1} 점수는 {2}점입니다.\".format(name, sub, score)\n",
    "\n",
    "# text = \"{}님의 {} 점수는 {}점입니다.\".format(name, sub, score)\n",
    "\n",
    "print(text)"
   ]
  },
  {
   "cell_type": "code",
   "execution_count": 60,
   "metadata": {},
   "outputs": [
    {
     "name": "stdout",
     "output_type": "stream",
     "text": [
      "영희님의 수학 점수는 95점입니다.\n"
     ]
    }
   ],
   "source": [
    "name = \"영희\"\n",
    "sub  = \"수학\"\n",
    "score = 95\n",
    "\n",
    "for n in range(len(name)):\n",
    "    text = f\"{name}님의 {sub} 점수는 {score}점입니다.\"\n",
    "\n",
    "# text = \"{}님의 {} 점수는 {}점입니다.\".format(name, sub, score)\n",
    "\n",
    "print(text)"
   ]
  }
 ],
 "metadata": {
  "interpreter": {
   "hash": "8931d08a56ba8ec5bd4013e6d6c9066a90d099ecd0b9731835efa4c48cf46a24"
  },
  "kernelspec": {
   "display_name": "Python 3.10.1 64-bit",
   "language": "python",
   "name": "python3"
  },
  "language_info": {
   "codemirror_mode": {
    "name": "ipython",
    "version": 3
   },
   "file_extension": ".py",
   "mimetype": "text/x-python",
   "name": "python",
   "nbconvert_exporter": "python",
   "pygments_lexer": "ipython3",
   "version": "3.10.1"
  },
  "orig_nbformat": 4
 },
 "nbformat": 4,
 "nbformat_minor": 2
}
