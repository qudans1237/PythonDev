{
 "cells": [
  {
   "cell_type": "markdown",
   "metadata": {},
   "source": [
    "> 깃허브 원격 저장소 만들기"
   ]
  },
  {
   "cell_type": "code",
   "execution_count": null,
   "metadata": {},
   "outputs": [],
   "source": [
    "\"\"\"\n",
    "1. 깃허브에 로그인한 후 화면 상단 오른쪽[+]를 누르고 \n",
    "    [New repository]를 선택\n",
    "2. 저장소 이름을 비롯해서 필요한 항목을 기입[Create repository]\n",
    "3. 저장소를 만들었다면 화면에 나타난 HTTPS 주소를 사용해 언제든지\n",
    "    깃허브 저장소에 접속, 파일을 올릴 수도 있다. \n",
    "    즉 저장소 주소만 알고 있다면\n",
    "    어디에서든 지역 저장소를 백업하거나 다른 사람과 협업 가능하다.\n",
    "\n",
    "    HTTPS로 접속하는 주소는 다음과 같은 형태이다.\n",
    "    https://github.com/아이디/저장소이름\n",
    "    \n",
    "    예)http://github.com/qudans1237/test-1.git\n",
    "\n",
    "\n",
    "\"\"\""
   ]
  },
  {
   "cell_type": "markdown",
   "metadata": {},
   "source": [
    "> 원격 저장소 가져오기"
   ]
  },
  {
   "cell_type": "code",
   "execution_count": null,
   "metadata": {},
   "outputs": [],
   "source": []
  },
  {
   "cell_type": "markdown",
   "metadata": {},
   "source": [
    "> 깃 환경설정하기"
   ]
  },
  {
   "cell_type": "code",
   "execution_count": null,
   "metadata": {},
   "outputs": [],
   "source": []
  },
  {
   "cell_type": "markdown",
   "metadata": {},
   "source": [
    "> 깃 스테이징 및 커밋"
   ]
  },
  {
   "cell_type": "code",
   "execution_count": null,
   "metadata": {},
   "outputs": [],
   "source": []
  },
  {
   "cell_type": "markdown",
   "metadata": {},
   "source": [
    "> 깃 푸시(push) & 풀(pull)"
   ]
  },
  {
   "cell_type": "code",
   "execution_count": null,
   "metadata": {},
   "outputs": [],
   "source": []
  }
 ],
 "metadata": {
  "language_info": {
   "name": "python"
  },
  "orig_nbformat": 4
 },
 "nbformat": 4,
 "nbformat_minor": 2
}
